{
 "cells": [
  {
   "cell_type": "code",
   "execution_count": 1,
   "metadata": {},
   "outputs": [
    {
     "name": "stdout",
     "output_type": "stream",
     "text": [
      "pygame 2.5.2 (SDL 2.28.3, Python 3.9.13)\n",
      "Hello from the pygame community. https://www.pygame.org/contribute.html\n"
     ]
    }
   ],
   "source": [
    "#Import libraries\n",
    "\n",
    "import cv2\n",
    "import mediapipe as mp\n",
    "from scipy.spatial import distance as dist\n",
    "import pygame\n"
   ]
  },
  {
   "cell_type": "code",
   "execution_count": 2,
   "metadata": {},
   "outputs": [],
   "source": [
    "# Function to calculate eye aspect ratio (EAR)\n",
    "\n",
    "def eye_aspect_ratio(eye):\n",
    "    A = dist.euclidean(eye[1], eye[5])\n",
    "    B = dist.euclidean(eye[2], eye[4])\n",
    "    C = dist.euclidean(eye[0], eye[3])\n",
    "    ear = (A + B) / (2.0 * C)\n",
    "    return ear"
   ]
  },
  {
   "cell_type": "code",
   "execution_count": 3,
   "metadata": {},
   "outputs": [],
   "source": [
    "# Function to play warning sound\n",
    "\n",
    "def play_warning_sound():\n",
    "    pygame.mixer.init()\n",
    "    warning_sound=pygame.mixer.Sound(r'D:\\DL projects\\OPENCV_PROJECTS\\emergency-alarm-with-reverb-29431.mp3')\n",
    "    warning_sound.play()\n",
    "\n",
    "\n",
    "#Function to stop warning sound\n",
    "    \n",
    "def stop_warning_sound():\n",
    "    pygame.mixer.stop()\n",
    "    "
   ]
  },
  {
   "cell_type": "code",
   "execution_count": 4,
   "metadata": {},
   "outputs": [],
   "source": [
    "# Initialize MediaPipe Face Mesh\n",
    "\n",
    "mp_face_mesh = mp.solutions.face_mesh\n",
    "face_mesh = mp_face_mesh.FaceMesh()"
   ]
  },
  {
   "cell_type": "code",
   "execution_count": 5,
   "metadata": {},
   "outputs": [],
   "source": [
    "# Custom indices for left and right eyes\n",
    "\n",
    "left_eye_indices = [362, 385, 387, 263, 373, 380]\n",
    "right_eye_indices = [33, 160, 158, 133, 153, 144]"
   ]
  },
  {
   "cell_type": "code",
   "execution_count": 6,
   "metadata": {},
   "outputs": [],
   "source": [
    "min_ear=0.25\n",
    "max_frame_count=6\n",
    "eye_closed_counter=0\n",
    "\n",
    "warning_playing=False"
   ]
  },
  {
   "cell_type": "code",
   "execution_count": 7,
   "metadata": {},
   "outputs": [],
   "source": [
    "video= cv2.VideoCapture(r'stock-footage-tired-man-driving-on-highway-eyes-closes-drop-and-falls-asleep-behind-wheel-loses-focus-suddenly.mp4')\n",
    "fps=int(video.get(cv2.CAP_PROP_FPS))\n",
    "\n",
    "while True:\n",
    "    success, frame = video.read()\n",
    "    if not success:\n",
    "        break\n",
    "    rgb_frame = cv2.cvtColor(frame, cv2.COLOR_BGR2RGB)\n",
    "    results = face_mesh.process(rgb_frame)\n",
    "\n",
    "    if results.multi_face_landmarks:\n",
    "        for face_landmarks in results.multi_face_landmarks:\n",
    "            \n",
    "            # Extract landmarks for left and right eyes using custom indices\n",
    "            landmarks = [((int(landmark.x * frame.shape[1]), int(landmark.y * frame.shape[0]))) for landmark in face_landmarks.landmark]\n",
    "\n",
    "            # Extract landmarks for left eye\n",
    "            left_eye_landmarks = [landmarks[i] for i in left_eye_indices]\n",
    "\n",
    "            # Extract landmarks for right eye\n",
    "            right_eye_landmarks = [landmarks[i] for i in right_eye_indices]\n",
    "\n",
    "            # Draw landmarks for left and right eyes\n",
    "            for landmark in left_eye_landmarks:\n",
    "                cv2.circle(frame, landmark, 2, (0, 255, 0), -1)\n",
    "\n",
    "            for landmark in right_eye_landmarks:\n",
    "                cv2.circle(frame, landmark, 2, (0, 255, 0), -1)\n",
    "\n",
    "            # Calculate Eye Aspect Ratio (EAR) for left and right eyes\n",
    "            ear_left = eye_aspect_ratio(left_eye_landmarks)\n",
    "            ear_right = eye_aspect_ratio(right_eye_landmarks)\n",
    "\n",
    "            # Average eye aspect ratio for both eyes\n",
    "            ear_avg = (ear_left + ear_right) / 2.0\n",
    "\n",
    "            #Check for drowesiness\n",
    "            if ear_avg < min_ear:\n",
    "                eye_closed_counter+=1\n",
    "            else:\n",
    "                eye_closed_counter=0\n",
    "\n",
    "            # Display EAR on the frame\n",
    "            cv2.putText(frame, \"EAR: {:.2f}\".format(ear_avg) ,(300, 30),cv2.FONT_HERSHEY_SIMPLEX, 0.7, (255, 0, 0), 2)\n",
    "            \n",
    "            if eye_closed_counter >= max_frame_count:\n",
    "                cv2.putText(frame, \"DROWSINESS ALERT!\", (10, 30),cv2.FONT_HERSHEY_SIMPLEX, 0.7, (0, 0, 255), 2)\n",
    "                \n",
    "               \n",
    "                if not warning_playing:\n",
    "                    play_warning_sound()\n",
    "                    warning_playing=True\n",
    "\n",
    "            else:\n",
    "                    if warning_playing:\n",
    "                        stop_warning_sound()\n",
    "                        warning_playing=False\n",
    "\n",
    "\n",
    "    # Display the frame\n",
    "    cv2.imshow('Drowsiness Detection', frame)\n",
    "    if cv2.waitKey(1000//fps) & 0xFF == ord('q'):\n",
    "        break\n",
    "\n",
    "# Release the video capture object and close all windows\n",
    "video.release()\n",
    "cv2.destroyAllWindows()"
   ]
  }
 ],
 "metadata": {
  "kernelspec": {
   "display_name": "Python 3",
   "language": "python",
   "name": "python3"
  },
  "language_info": {
   "codemirror_mode": {
    "name": "ipython",
    "version": 3
   },
   "file_extension": ".py",
   "mimetype": "text/x-python",
   "name": "python",
   "nbconvert_exporter": "python",
   "pygments_lexer": "ipython3",
   "version": "3.9.13"
  }
 },
 "nbformat": 4,
 "nbformat_minor": 2
}
